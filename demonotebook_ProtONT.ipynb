{
 "cells": [
  {
   "cell_type": "markdown",
   "metadata": {},
   "source": [
    "# ProtOnt\n",
    "### Volcano Plots and LOESS Curves Creator based on protein LFQ ontogeny "
   ]
  },
  {
   "cell_type": "code",
   "execution_count": 16,
   "metadata": {},
   "outputs": [],
   "source": [
    "# 1. MUST DO: Import packages\n",
    "import utils\n",
    "import numpy as np\n",
    "from sklearn.preprocessing import MinMaxScaler"
   ]
  },
  {
   "cell_type": "markdown",
   "metadata": {},
   "source": [
    "<font size=\"2\">If you need to create the proper input file first, upload the protein TSV (report.pg_matrix.tsv) and a metadata file containing the sample names in the same order as the protein file (when transposed). The output of this merging process is a CSV file called final_data.csv, which can be found in the same folder as the metadata file provided.</font>"
   ]
  },
  {
   "cell_type": "code",
   "execution_count": null,
   "metadata": {},
   "outputs": [],
   "source": [
    "# 2. IF NEEDED: Specifiy paths to meta and protein file\n",
    "protein_file = 'C:/Users/CH258405/Documents/ProtONT/example_input/report.pg_matrix.tsv'  \n",
    "meta_file = 'C:/Users/CH258405/Documents/ProtONT/example_input/meta.csv'  "
   ]
  },
  {
   "cell_type": "code",
   "execution_count": null,
   "metadata": {},
   "outputs": [],
   "source": [
    "# 3. IF NEEDED: create input file from metadata and protein file\n",
    "utils.create_input_file(protein_file, meta_file)"
   ]
  },
  {
   "cell_type": "markdown",
   "metadata": {},
   "source": [
    "<font size=\"2\">This file has to be of the same format as final_data.csv.\n",
    "The first 15 columns containing metadata, all following columns containing LFQ data. The metadata must include HOL and DOL columns as header.</font>"
   ]
  },
  {
   "cell_type": "code",
   "execution_count": 17,
   "metadata": {},
   "outputs": [],
   "source": [
    "# 4. MUST DO: specify path to input file\n",
    "path_to_csv_file = \"C:/Users/CH258405/Documents/ProtONT/example_input//input.csv\""
   ]
  },
  {
   "cell_type": "code",
   "execution_count": 18,
   "metadata": {},
   "outputs": [],
   "source": [
    "# 5. MUST DO: convert csv to pandas dataframe\n",
    "pd = utils.read_csv_get_pd(path_to_csv_file)\n",
    "pd['HOL'] = pd['HOL'].astype(int)"
   ]
  },
  {
   "cell_type": "code",
   "execution_count": null,
   "metadata": {},
   "outputs": [],
   "source": [
    "# 6. IF NEEDED: choose the HoL-span you want to work with \n",
    "hol_min = 150\n",
    "hol_max = 270\n",
    "pd = pd[(pd['HOL'] >= hol_min) & (pd['HOL'] <= hol_max)]"
   ]
  },
  {
   "cell_type": "code",
   "execution_count": 19,
   "metadata": {},
   "outputs": [],
   "source": [
    "# 7. IF NEEDED: log transform the intensity data\n",
    "for column in pd.columns[15:]: \n",
    "    pd[column] = np.log2(pd[column])"
   ]
  },
  {
   "cell_type": "markdown",
   "metadata": {},
   "source": [
    "<font size=\"2\">LOESS plots will be saved in a folder called 'results_LOESS', located in the same directory as the specified path to the input data. Additionally, a text file will be generated listing all excluded proteins due to insufficient data. </font>"
   ]
  },
  {
   "cell_type": "code",
   "execution_count": 20,
   "metadata": {},
   "outputs": [],
   "source": [
    "# 8.0 generate LOESS plots\n",
    "utils.generate_loess_plots(pd, path_to_csv_file)"
   ]
  },
  {
   "cell_type": "code",
   "execution_count": null,
   "metadata": {},
   "outputs": [],
   "source": [
    "# 8.1 generate LOESS plot on two chosen factors (first factor represents the x-axis)\n",
    "fst_factor = 'HOL'\n",
    "snd_factor = 'Sex'\n",
    "utils.generate_loess_plots_2factors(pd, path_to_csv_file, fst_factor, snd_factor)"
   ]
  },
  {
   "cell_type": "code",
   "execution_count": null,
   "metadata": {},
   "outputs": [],
   "source": [
    "# 8.1.1 generate a txt, containing all significant different proteins concentration when snd_factor is compared. \n",
    "fst_factor = 'DOL'\n",
    "snd_factor = 'Sex'\n",
    "utils.significance_loess_2factors(pd, path_to_csv_file, fst_factor, snd_factor, alpha=0.1)"
   ]
  },
  {
   "cell_type": "markdown",
   "metadata": {},
   "source": [
    "<font size=\"2\">If normalization is required for LOESS plots, perform step 9 before step 8, and ensure that normalization is not repeated before step 10 (otherwise, the data will be normalized again). </font>"
   ]
  },
  {
   "cell_type": "code",
   "execution_count": null,
   "metadata": {},
   "outputs": [],
   "source": [
    "# 9. IF NEEDED: normalization (by Scaling) for intensity data\n",
    "scaler = MinMaxScaler()\n",
    "pd.iloc[:, 15:] = scaler.fit_transform(pd.iloc[:, 15:])"
   ]
  },
  {
   "cell_type": "markdown",
   "metadata": {},
   "source": [
    "<font size=\"2\">Volcano plott will be saved in a folder called 'results_volcano', located in the same directory as the specified path to the input data. Additionally, a text file will be generated listing all excluded proteins due to insufficient data. </font>"
   ]
  },
  {
   "cell_type": "code",
   "execution_count": null,
   "metadata": {},
   "outputs": [],
   "source": [
    "# 10. generate Vulcano plots\n",
    "utils.generate_volcano_plot(pd, path_to_csv_file)"
   ]
  }
 ],
 "metadata": {
  "kernelspec": {
   "display_name": "katistool",
   "language": "python",
   "name": "python3"
  },
  "language_info": {
   "codemirror_mode": {
    "name": "ipython",
    "version": 3
   },
   "file_extension": ".py",
   "mimetype": "text/x-python",
   "name": "python",
   "nbconvert_exporter": "python",
   "pygments_lexer": "ipython3",
   "version": "3.12.3"
  }
 },
 "nbformat": 4,
 "nbformat_minor": 2
}
